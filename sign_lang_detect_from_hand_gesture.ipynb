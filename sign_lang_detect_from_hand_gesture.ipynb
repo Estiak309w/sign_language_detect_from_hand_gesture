{
 "cells": [
  {
   "cell_type": "code",
   "execution_count": 1,
   "metadata": {},
   "outputs": [
    {
     "name": "stderr",
     "output_type": "stream",
     "text": [
      "Using TensorFlow backend.\n"
     ]
    }
   ],
   "source": [
    "# Importing the Keras libraries and packages\n",
    "from keras.models import Sequential\n",
    "from keras.layers import Conv2D\n",
    "from keras.layers import MaxPooling2D\n",
    "from keras.layers import Flatten\n",
    "from keras.layers import Dense\n",
    "from keras.layers import Dropout\n",
    "import PIL.Image\n",
    "from PIL import  Image"
   ]
  },
  {
   "cell_type": "code",
   "execution_count": 2,
   "metadata": {},
   "outputs": [],
   "source": [
    "import numpy as np\n",
    "import pandas as pd\n",
    "import matplotlib.pyplot as plt\n",
    "\n",
    "from sklearn.model_selection import train_test_split\n",
    "from sklearn.metrics import accuracy_score"
   ]
  },
  {
   "cell_type": "code",
   "execution_count": 3,
   "metadata": {},
   "outputs": [],
   "source": [
    "from keras.utils import to_categorical"
   ]
  },
  {
   "cell_type": "code",
   "execution_count": 4,
   "metadata": {},
   "outputs": [],
   "source": [
    "train = pd.read_csv('sign-language-mnist/sign_mnist_train.csv')\n",
    "test = pd.read_csv('sign-language-mnist/sign_mnist_test.csv')"
   ]
  },
  {
   "cell_type": "code",
   "execution_count": 5,
   "metadata": {},
   "outputs": [
    {
     "name": "stdout",
     "output_type": "stream",
     "text": [
      "   label  pixel1  pixel2  pixel3  pixel4  pixel5  pixel6  pixel7  pixel8  \\\n",
      "0      3     107     118     127     134     139     143     146     150   \n",
      "1      6     155     157     156     156     156     157     156     158   \n",
      "2      2     187     188     188     187     187     186     187     188   \n",
      "3      2     211     211     212     212     211     210     211     210   \n",
      "4     13     164     167     170     172     176     179     180     184   \n",
      "\n",
      "   pixel9    ...     pixel775  pixel776  pixel777  pixel778  pixel779  \\\n",
      "0     153    ...          207       207       207       207       206   \n",
      "1     158    ...           69       149       128        87        94   \n",
      "2     187    ...          202       201       200       199       198   \n",
      "3     210    ...          235       234       233       231       230   \n",
      "4     185    ...           92       105       105       108       133   \n",
      "\n",
      "   pixel780  pixel781  pixel782  pixel783  pixel784  \n",
      "0       206       206       204       203       202  \n",
      "1       163       175       103       135       149  \n",
      "2       199       198       195       194       195  \n",
      "3       226       225       222       229       163  \n",
      "4       163       157       163       164       179  \n",
      "\n",
      "[5 rows x 785 columns]\n",
      "(27455, 785)\n"
     ]
    }
   ],
   "source": [
    "print(train.head())\n",
    "print(train.shape)"
   ]
  },
  {
   "cell_type": "code",
   "execution_count": 6,
   "metadata": {},
   "outputs": [],
   "source": [
    "labels = train['label'].values"
   ]
  },
  {
   "cell_type": "code",
   "execution_count": 7,
   "metadata": {},
   "outputs": [
    {
     "data": {
      "text/plain": [
       "array([ 0,  1,  2,  3,  4,  5,  6,  7,  8, 10, 11, 12, 13, 14, 15, 16, 17,\n",
       "       18, 19, 20, 21, 22, 23, 24], dtype=int64)"
      ]
     },
     "execution_count": 7,
     "metadata": {},
     "output_type": "execute_result"
    }
   ],
   "source": [
    "unique_val = np.array(labels)\n",
    "np.unique(unique_val)"
   ]
  },
  {
   "cell_type": "code",
   "execution_count": 8,
   "metadata": {},
   "outputs": [],
   "source": [
    "train.drop('label',axis=1,inplace=True)"
   ]
  },
  {
   "cell_type": "code",
   "execution_count": 9,
   "metadata": {},
   "outputs": [],
   "source": [
    "images = train.values\n",
    "images = np.array([np.reshape(i,(28,28)) for i in images])\n"
   ]
  },
  {
   "cell_type": "code",
   "execution_count": 10,
   "metadata": {},
   "outputs": [],
   "source": [
    "from sklearn.preprocessing import LabelBinarizer\n",
    "label_bin = LabelBinarizer()\n",
    "labels = label_bin.fit_transform(labels)"
   ]
  },
  {
   "cell_type": "code",
   "execution_count": 11,
   "metadata": {},
   "outputs": [
    {
     "name": "stdout",
     "output_type": "stream",
     "text": [
      "[[0 0 0 ... 0 0 0]\n",
      " [0 0 0 ... 0 0 0]\n",
      " [0 0 1 ... 0 0 0]\n",
      " ...\n",
      " [0 0 0 ... 0 0 0]\n",
      " [0 0 0 ... 0 0 0]\n",
      " [0 0 0 ... 0 1 0]]\n"
     ]
    }
   ],
   "source": [
    "print(labels)"
   ]
  },
  {
   "cell_type": "code",
   "execution_count": 12,
   "metadata": {},
   "outputs": [],
   "source": [
    "x_train, x_test, y_train, y_test = train_test_split(images, labels, test_size = 0.3, random_state = 101)"
   ]
  },
  {
   "cell_type": "code",
   "execution_count": 13,
   "metadata": {},
   "outputs": [],
   "source": [
    "x_train = x_train/255\n",
    "x_test = x_test/255"
   ]
  },
  {
   "cell_type": "code",
   "execution_count": 14,
   "metadata": {},
   "outputs": [],
   "source": [
    "#Reshaping the training and validation sets\n",
    "x_train = x_train.reshape(x_train.shape[0], 28, 28, 1)\n",
    "x_test = x_test.reshape(x_test.shape[0], 28, 28, 1)"
   ]
  },
  {
   "cell_type": "code",
   "execution_count": 15,
   "metadata": {},
   "outputs": [
    {
     "data": {
      "text/plain": [
       "<matplotlib.image.AxesImage at 0x14c543b4278>"
      ]
     },
     "execution_count": 15,
     "metadata": {},
     "output_type": "execute_result"
    },
    {
     "data": {
      "image/png": "[encoded data removed]",
      "text/plain": [
       "<Figure size 432x288 with 1 Axes>"
      ]
     },
     "metadata": {
      "needs_background": "light"
     },
     "output_type": "display_data"
    }
   ],
   "source": [
    "plt.imshow(x_train[0].reshape(28,28))"
   ]
  },
  {
   "cell_type": "code",
   "execution_count": null,
   "metadata": {},
   "outputs": [],
   "source": []
  },
  {
   "cell_type": "code",
   "execution_count": null,
   "metadata": {},
   "outputs": [],
   "source": []
  },
  {
   "cell_type": "code",
   "execution_count": null,
   "metadata": {},
   "outputs": [],
   "source": []
  },
  {
   "cell_type": "code",
   "execution_count": null,
   "metadata": {},
   "outputs": [],
   "source": []
  },
  {
   "cell_type": "code",
   "execution_count": 16,
   "metadata": {},
   "outputs": [],
   "source": [
    "# Initialising the CNN\n",
    "classifier = Sequential()\n",
    "\n",
    "# Step 1 - Convolution\n",
    "classifier.add(Conv2D(32, (3, 3), input_shape = (28, 28, 1), activation = 'relu'))"
   ]
  },
  {
   "cell_type": "code",
   "execution_count": 17,
   "metadata": {},
   "outputs": [],
   "source": [
    "# Step 2 - Pooling\n",
    "classifier.add(MaxPooling2D(pool_size = (2, 2)))\n",
    "\n",
    "# Adding a second convolutional layer\n",
    "classifier.add(Conv2D(32, (3, 3), activation = 'relu'))\n",
    "classifier.add(MaxPooling2D(pool_size = (2, 2)))\n",
    "\n",
    "# Adding a third  convolutional layer\n",
    "classifier.add(Conv2D(32, (3, 3), activation = 'relu'))\n",
    "classifier.add(MaxPooling2D(pool_size = (2, 2)))"
   ]
  },
  {
   "cell_type": "code",
   "execution_count": 18,
   "metadata": {},
   "outputs": [],
   "source": [
    "# Step 3 - Flattening\n",
    "classifier.add(Flatten())"
   ]
  },
  {
   "cell_type": "code",
   "execution_count": 19,
   "metadata": {},
   "outputs": [],
   "source": [
    "# Step 4 - Full connection\n",
    "classifier.add(Dense(units = 128, activation = 'relu'))\n",
    "classifier.add(Dropout(0.2))\n",
    "classifier.add(Dense(24 , activation = 'softmax'))\n"
   ]
  },
  {
   "cell_type": "code",
   "execution_count": 20,
   "metadata": {},
   "outputs": [],
   "source": [
    "# Compiling the CNN\n",
    "classifier.compile(optimizer = 'adam', loss = 'categorical_crossentropy', metrics = ['accuracy'])"
   ]
  },
  {
   "cell_type": "code",
   "execution_count": 21,
   "metadata": {},
   "outputs": [
    {
     "name": "stdout",
     "output_type": "stream",
     "text": [
      "Train on 19218 samples, validate on 8237 samples\n",
      "Epoch 1/50\n",
      "19218/19218 [==============================] - 34s 2ms/step - loss: 2.8510 - acc: 0.1308 - val_loss: 2.1431 - val_acc: 0.3283\n",
      "Epoch 2/50\n",
      "19218/19218 [==============================] - 32s 2ms/step - loss: 1.7553 - acc: 0.4193 - val_loss: 1.2665 - val_acc: 0.6013\n",
      "Epoch 3/50\n",
      "19218/19218 [==============================] - 32s 2ms/step - loss: 1.1815 - acc: 0.5969 - val_loss: 0.8989 - val_acc: 0.7034\n",
      "Epoch 4/50\n",
      "19218/19218 [==============================] - 32s 2ms/step - loss: 0.8923 - acc: 0.6905 - val_loss: 0.6851 - val_acc: 0.7703\n",
      "Epoch 5/50\n",
      "19218/19218 [==============================] - 32s 2ms/step - loss: 0.7127 - acc: 0.7509 - val_loss: 0.5417 - val_acc: 0.8230\n",
      "Epoch 6/50\n",
      "19218/19218 [==============================] - 32s 2ms/step - loss: 0.5790 - acc: 0.7982 - val_loss: 0.4384 - val_acc: 0.8605\n",
      "Epoch 7/50\n",
      "19218/19218 [==============================] - 33s 2ms/step - loss: 0.4833 - acc: 0.8329 - val_loss: 0.3496 - val_acc: 0.8951\n",
      "Epoch 8/50\n",
      "19218/19218 [==============================] - 32s 2ms/step - loss: 0.4069 - acc: 0.8617 - val_loss: 0.3108 - val_acc: 0.9011\n",
      "Epoch 9/50\n",
      "19218/19218 [==============================] - 32s 2ms/step - loss: 0.3395 - acc: 0.8859 - val_loss: 0.2581 - val_acc: 0.9177\n",
      "Epoch 10/50\n",
      "19218/19218 [==============================] - 32s 2ms/step - loss: 0.2929 - acc: 0.9008 - val_loss: 0.2154 - val_acc: 0.9388\n",
      "Epoch 11/50\n",
      "19218/19218 [==============================] - 32s 2ms/step - loss: 0.2499 - acc: 0.9175 - val_loss: 0.2203 - val_acc: 0.9296\n",
      "Epoch 12/50\n",
      "19218/19218 [==============================] - 32s 2ms/step - loss: 0.2167 - acc: 0.9286 - val_loss: 0.1837 - val_acc: 0.9378\n",
      "Epoch 13/50\n",
      "19218/19218 [==============================] - 32s 2ms/step - loss: 0.1921 - acc: 0.9380 - val_loss: 0.1149 - val_acc: 0.9744\n",
      "Epoch 14/50\n",
      "19218/19218 [==============================] - 32s 2ms/step - loss: 0.1629 - acc: 0.9481 - val_loss: 0.0945 - val_acc: 0.9783\n",
      "Epoch 15/50\n",
      "19218/19218 [==============================] - 32s 2ms/step - loss: 0.1386 - acc: 0.9560 - val_loss: 0.0897 - val_acc: 0.9784\n",
      "Epoch 16/50\n",
      "19218/19218 [==============================] - 32s 2ms/step - loss: 0.1309 - acc: 0.9576 - val_loss: 0.0715 - val_acc: 0.9857\n",
      "Epoch 17/50\n",
      "19218/19218 [==============================] - 32s 2ms/step - loss: 0.1062 - acc: 0.9681 - val_loss: 0.0500 - val_acc: 0.9934\n",
      "Epoch 18/50\n",
      "19218/19218 [==============================] - 32s 2ms/step - loss: 0.0963 - acc: 0.9706 - val_loss: 0.0505 - val_acc: 0.9887\n",
      "Epoch 19/50\n",
      "19218/19218 [==============================] - 32s 2ms/step - loss: 0.0826 - acc: 0.9764 - val_loss: 0.0469 - val_acc: 0.9900\n",
      "Epoch 20/50\n",
      "19218/19218 [==============================] - 32s 2ms/step - loss: 0.0807 - acc: 0.9768 - val_loss: 0.0374 - val_acc: 0.9917\n",
      "Epoch 21/50\n",
      "19218/19218 [==============================] - 32s 2ms/step - loss: 0.0693 - acc: 0.9793 - val_loss: 0.0269 - val_acc: 0.9966\n",
      "Epoch 22/50\n",
      "19218/19218 [==============================] - 32s 2ms/step - loss: 0.0672 - acc: 0.9797 - val_loss: 0.0303 - val_acc: 0.9958\n",
      "Epoch 23/50\n",
      "19218/19218 [==============================] - 32s 2ms/step - loss: 0.0530 - acc: 0.9851 - val_loss: 0.0214 - val_acc: 0.9979\n",
      "Epoch 24/50\n",
      "19218/19218 [==============================] - 32s 2ms/step - loss: 0.0487 - acc: 0.9868 - val_loss: 0.0134 - val_acc: 0.9992\n",
      "Epoch 25/50\n",
      "19218/19218 [==============================] - 32s 2ms/step - loss: 0.0421 - acc: 0.9895 - val_loss: 0.0185 - val_acc: 0.9983\n",
      "Epoch 26/50\n",
      "19218/19218 [==============================] - 32s 2ms/step - loss: 0.0396 - acc: 0.9886 - val_loss: 0.0127 - val_acc: 0.9989\n",
      "Epoch 27/50\n",
      "19218/19218 [==============================] - 32s 2ms/step - loss: 0.0384 - acc: 0.9901 - val_loss: 0.0085 - val_acc: 0.9994\n",
      "Epoch 28/50\n",
      "19218/19218 [==============================] - 32s 2ms/step - loss: 0.0363 - acc: 0.9895 - val_loss: 0.0118 - val_acc: 0.9985\n",
      "Epoch 29/50\n",
      "19218/19218 [==============================] - 32s 2ms/step - loss: 0.0325 - acc: 0.9918 - val_loss: 0.0103 - val_acc: 0.9990\n",
      "Epoch 30/50\n",
      "19218/19218 [==============================] - 32s 2ms/step - loss: 0.0291 - acc: 0.9920 - val_loss: 0.0110 - val_acc: 0.9985\n",
      "Epoch 31/50\n",
      "19218/19218 [==============================] - 32s 2ms/step - loss: 0.0382 - acc: 0.9894 - val_loss: 0.0099 - val_acc: 0.9993\n",
      "Epoch 32/50\n",
      "19218/19218 [==============================] - 32s 2ms/step - loss: 0.0280 - acc: 0.9923 - val_loss: 0.0116 - val_acc: 0.9976\n",
      "Epoch 33/50\n",
      "19218/19218 [==============================] - 32s 2ms/step - loss: 0.0283 - acc: 0.9923 - val_loss: 0.0089 - val_acc: 0.9990\n",
      "Epoch 34/50\n",
      "19218/19218 [==============================] - 32s 2ms/step - loss: 0.0216 - acc: 0.9947 - val_loss: 0.0033 - val_acc: 0.9999\n",
      "Epoch 35/50\n",
      "19218/19218 [==============================] - 32s 2ms/step - loss: 0.0243 - acc: 0.9932 - val_loss: 0.0055 - val_acc: 0.9996\n",
      "Epoch 36/50\n",
      "19218/19218 [==============================] - 32s 2ms/step - loss: 0.0218 - acc: 0.9938 - val_loss: 0.0080 - val_acc: 0.9984\n",
      "Epoch 37/50\n",
      "19218/19218 [==============================] - 33s 2ms/step - loss: 0.0217 - acc: 0.9932 - val_loss: 0.0087 - val_acc: 0.9984\n",
      "Epoch 38/50\n",
      "19218/19218 [==============================] - 32s 2ms/step - loss: 0.0276 - acc: 0.9924 - val_loss: 0.0099 - val_acc: 0.9976\n",
      "Epoch 39/50\n",
      "19218/19218 [==============================] - 32s 2ms/step - loss: 0.0183 - acc: 0.9947 - val_loss: 0.0033 - val_acc: 1.0000\n",
      "Epoch 40/50\n",
      "19218/19218 [==============================] - 32s 2ms/step - loss: 0.0145 - acc: 0.9964 - val_loss: 0.0072 - val_acc: 0.9987\n",
      "Epoch 41/50\n",
      "19218/19218 [==============================] - 32s 2ms/step - loss: 0.0250 - acc: 0.9920 - val_loss: 0.0052 - val_acc: 0.9993\n",
      "Epoch 42/50\n",
      "19218/19218 [==============================] - 32s 2ms/step - loss: 0.0142 - acc: 0.9963 - val_loss: 0.0048 - val_acc: 0.9990\n",
      "Epoch 43/50\n",
      "19218/19218 [==============================] - 32s 2ms/step - loss: 0.0214 - acc: 0.9940 - val_loss: 0.0052 - val_acc: 0.9995\n",
      "Epoch 44/50\n",
      "19218/19218 [==============================] - 32s 2ms/step - loss: 0.0148 - acc: 0.9961 - val_loss: 0.0037 - val_acc: 0.9999\n",
      "Epoch 45/50\n",
      "19218/19218 [==============================] - 32s 2ms/step - loss: 0.0142 - acc: 0.9959 - val_loss: 0.0041 - val_acc: 1.0000\n",
      "Epoch 46/50\n",
      "19218/19218 [==============================] - 33s 2ms/step - loss: 0.0237 - acc: 0.9927 - val_loss: 0.0041 - val_acc: 0.9996\n",
      "Epoch 47/50\n",
      "19218/19218 [==============================] - 32s 2ms/step - loss: 0.0158 - acc: 0.9953 - val_loss: 0.0036 - val_acc: 0.9995\n",
      "Epoch 48/50\n",
      "19218/19218 [==============================] - 32s 2ms/step - loss: 0.0104 - acc: 0.9973 - val_loss: 0.0089 - val_acc: 0.9984\n",
      "Epoch 49/50\n",
      "19218/19218 [==============================] - 33s 2ms/step - loss: 0.0155 - acc: 0.9946 - val_loss: 0.0019 - val_acc: 0.9996\n",
      "Epoch 50/50\n",
      "19218/19218 [==============================] - 32s 2ms/step - loss: 0.0122 - acc: 0.9964 - val_loss: 0.0026 - val_acc: 0.9996\n"
     ]
    }
   ],
   "source": [
    "history = classifier.fit(x_train, y_train, validation_data = (x_test, y_test), epochs=50, batch_size=128)"
   ]
  },
  {
   "cell_type": "code",
   "execution_count": 22,
   "metadata": {},
   "outputs": [
    {
     "data": {
      "image/png": "[encoded data removed]",
      "text/plain": [
       "<Figure size 432x288 with 1 Axes>"
      ]
     },
     "metadata": {
      "needs_background": "light"
     },
     "output_type": "display_data"
    }
   ],
   "source": [
    "plt.plot(history.history['acc'])\n",
    "plt.plot(history.history['val_acc'])\n",
    "plt.title(\"Accuracy\")\n",
    "plt.xlabel('epoch')\n",
    "plt.ylabel('accuracy')\n",
    "plt.legend(['train','test'])\n",
    "plt.show()"
   ]
  },
  {
   "cell_type": "markdown",
   "metadata": {},
   "source": [
    "test accuracies with test data "
   ]
  },
  {
   "cell_type": "code",
   "execution_count": 23,
   "metadata": {},
   "outputs": [],
   "source": [
    "test_label = test['label']\n",
    "test.drop('label',axis=1,inplace=True)\n"
   ]
  },
  {
   "cell_type": "code",
   "execution_count": 24,
   "metadata": {},
   "outputs": [],
   "source": [
    "test_images = test.values\n",
    "test_images = np.array([np.reshape(i,(28,28)) for i in test_images])\n",
    "test_images = np.array([i.flatten() for i in test_images])"
   ]
  },
  {
   "cell_type": "code",
   "execution_count": null,
   "metadata": {},
   "outputs": [],
   "source": []
  },
  {
   "cell_type": "code",
   "execution_count": 25,
   "metadata": {},
   "outputs": [],
   "source": [
    "test_labels = label_bin.fit_transform(test_label)\n",
    "test_images = test_images.reshape(test_images.shape[0], 28, 28, 1)\n"
   ]
  },
  {
   "cell_type": "code",
   "execution_count": 26,
   "metadata": {},
   "outputs": [
    {
     "name": "stdout",
     "output_type": "stream",
     "text": [
      "[[0 0 0 ... 0 0 0]\n",
      " [0 0 0 ... 0 0 0]\n",
      " [0 0 0 ... 0 0 0]\n",
      " ...\n",
      " [0 0 1 ... 0 0 0]\n",
      " [0 0 0 ... 0 0 0]\n",
      " [0 0 1 ... 0 0 0]]\n"
     ]
    }
   ],
   "source": [
    "test_images.shape\n",
    "print(test_labels)"
   ]
  },
  {
   "cell_type": "code",
   "execution_count": 27,
   "metadata": {},
   "outputs": [
    {
     "name": "stdout",
     "output_type": "stream",
     "text": [
      "[0. 0. 0. 0. 0. 0. 0. 0. 1. 0. 0. 0. 0. 0. 0. 0. 0. 0. 0. 0. 0. 0. 0. 0.]\n",
      "0.7954545454545454\n"
     ]
    }
   ],
   "source": [
    "from sklearn.metrics import accuracy_score\n",
    "y_pred = classifier.predict(test_images)\n",
    "print(y_pred[100])\n",
    "\n",
    "acc = accuracy_score(test_labels, y_pred.round())\n",
    "print(acc)\n"
   ]
  },
  {
   "cell_type": "code",
   "execution_count": null,
   "metadata": {},
   "outputs": [],
   "source": []
  }
 ],
 "metadata": {
  "kernelspec": {
   "display_name": "Python 3",
   "language": "python",
   "name": "python3"
  },
  "language_info": {
   "codemirror_mode": {
    "name": "ipython",
    "version": 3
   },
   "file_extension": ".py",
   "mimetype": "text/x-python",
   "name": "python",
   "nbconvert_exporter": "python",
   "pygments_lexer": "ipython3",
   "version": "3.6.7"
  }
 },
 "nbformat": 4,
 "nbformat_minor": 2
}
